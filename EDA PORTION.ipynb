{
 "cells": [
  {
   "cell_type": "code",
   "execution_count": null,
   "id": "ae279fde",
   "metadata": {},
   "outputs": [],
   "source": [
    "import requests as r\n",
    "import numpy as np\n",
    "import pandas as pd\n",
    "import json\n",
    "\n",
    "import seaborn as sb\n",
    "import matplotlib.pyplot as plt \n",
    "\n",
    "\n"
   ]
  },
  {
   "cell_type": "code",
   "execution_count": null,
   "id": "96465eb5",
   "metadata": {},
   "outputs": [],
   "source": [
    "moviedata = pd.read_csv('cleaned-movie-dataset.csv',index_col= 0)\n",
    "moviedata"
   ]
  },
  {
   "cell_type": "code",
   "execution_count": null,
   "id": "8ae5f68c",
   "metadata": {},
   "outputs": [],
   "source": [
    "EDA_numeric = moviedata[[\"\"]]"
   ]
  }
 ],
 "metadata": {
  "kernelspec": {
   "display_name": "Python 3 (ipykernel)",
   "language": "python",
   "name": "python3"
  },
  "language_info": {
   "codemirror_mode": {
    "name": "ipython",
    "version": 3
   },
   "file_extension": ".py",
   "mimetype": "text/x-python",
   "name": "python",
   "nbconvert_exporter": "python",
   "pygments_lexer": "ipython3",
   "version": "3.9.7"
  }
 },
 "nbformat": 4,
 "nbformat_minor": 5
}
