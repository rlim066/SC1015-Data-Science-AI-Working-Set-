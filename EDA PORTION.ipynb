{
 "cells": [
  {
   "cell_type": "code",
   "execution_count": 1,
   "id": "2b296a74",
   "metadata": {},
   "outputs": [],
   "source": [
    "import requests as r\n",
    "import numpy as np\n",
    "import pandas as pd\n",
    "import json\n",
    "\n",
    "import seaborn as sb\n",
    "import matplotlib.pyplot as plt \n",
    "sb.set() # set the default Seaborn style for graphics"
   ]
  },
  {
   "cell_type": "code",
   "execution_count": 2,
   "id": "3d6d3290",
   "metadata": {
    "scrolled": true
   },
   "outputs": [
    {
     "data": {
      "text/html": [
       "<div>\n",
       "<style scoped>\n",
       "    .dataframe tbody tr th:only-of-type {\n",
       "        vertical-align: middle;\n",
       "    }\n",
       "\n",
       "    .dataframe tbody tr th {\n",
       "        vertical-align: top;\n",
       "    }\n",
       "\n",
       "    .dataframe thead th {\n",
       "        text-align: right;\n",
       "    }\n",
       "</style>\n",
       "<table border=\"1\" class=\"dataframe\">\n",
       "  <thead>\n",
       "    <tr style=\"text-align: right;\">\n",
       "      <th></th>\n",
       "      <th>ID</th>\n",
       "      <th>Title</th>\n",
       "      <th>Decade</th>\n",
       "      <th>Age of Movie</th>\n",
       "      <th>Age Category</th>\n",
       "      <th>IMDb</th>\n",
       "      <th>Rotten</th>\n",
       "      <th>Availability</th>\n",
       "      <th>Genres</th>\n",
       "      <th>Country</th>\n",
       "      <th>Language</th>\n",
       "      <th>Runtime</th>\n",
       "    </tr>\n",
       "  </thead>\n",
       "  <tbody>\n",
       "    <tr>\n",
       "      <th>0</th>\n",
       "      <td>1</td>\n",
       "      <td>Inception</td>\n",
       "      <td>2010s</td>\n",
       "      <td>12</td>\n",
       "      <td>13+</td>\n",
       "      <td>8.8</td>\n",
       "      <td>87</td>\n",
       "      <td>1</td>\n",
       "      <td>Action</td>\n",
       "      <td>United States</td>\n",
       "      <td>English</td>\n",
       "      <td>148</td>\n",
       "    </tr>\n",
       "    <tr>\n",
       "      <th>1</th>\n",
       "      <td>2</td>\n",
       "      <td>The Matrix</td>\n",
       "      <td>1990s</td>\n",
       "      <td>23</td>\n",
       "      <td>18+</td>\n",
       "      <td>8.7</td>\n",
       "      <td>87</td>\n",
       "      <td>1</td>\n",
       "      <td>Action</td>\n",
       "      <td>United States</td>\n",
       "      <td>English</td>\n",
       "      <td>136</td>\n",
       "    </tr>\n",
       "    <tr>\n",
       "      <th>2</th>\n",
       "      <td>3</td>\n",
       "      <td>Avengers: Infinity War</td>\n",
       "      <td>2010s</td>\n",
       "      <td>4</td>\n",
       "      <td>13+</td>\n",
       "      <td>8.5</td>\n",
       "      <td>84</td>\n",
       "      <td>1</td>\n",
       "      <td>Action</td>\n",
       "      <td>United States</td>\n",
       "      <td>English</td>\n",
       "      <td>149</td>\n",
       "    </tr>\n",
       "    <tr>\n",
       "      <th>3</th>\n",
       "      <td>4</td>\n",
       "      <td>Back to the Future</td>\n",
       "      <td>1980s</td>\n",
       "      <td>37</td>\n",
       "      <td>7+</td>\n",
       "      <td>8.5</td>\n",
       "      <td>96</td>\n",
       "      <td>1</td>\n",
       "      <td>Adventure</td>\n",
       "      <td>United States</td>\n",
       "      <td>English</td>\n",
       "      <td>116</td>\n",
       "    </tr>\n",
       "    <tr>\n",
       "      <th>4</th>\n",
       "      <td>5</td>\n",
       "      <td>The Good, the Bad and the Ugly</td>\n",
       "      <td>1960s</td>\n",
       "      <td>56</td>\n",
       "      <td>18+</td>\n",
       "      <td>8.8</td>\n",
       "      <td>97</td>\n",
       "      <td>2</td>\n",
       "      <td>Western</td>\n",
       "      <td>Italy</td>\n",
       "      <td>Italian</td>\n",
       "      <td>161</td>\n",
       "    </tr>\n",
       "    <tr>\n",
       "      <th>...</th>\n",
       "      <td>...</td>\n",
       "      <td>...</td>\n",
       "      <td>...</td>\n",
       "      <td>...</td>\n",
       "      <td>...</td>\n",
       "      <td>...</td>\n",
       "      <td>...</td>\n",
       "      <td>...</td>\n",
       "      <td>...</td>\n",
       "      <td>...</td>\n",
       "      <td>...</td>\n",
       "      <td>...</td>\n",
       "    </tr>\n",
       "    <tr>\n",
       "      <th>5551</th>\n",
       "      <td>5552</td>\n",
       "      <td>The Story of the Animated Drawing</td>\n",
       "      <td>1950s</td>\n",
       "      <td>67</td>\n",
       "      <td>all</td>\n",
       "      <td>7.6</td>\n",
       "      <td>41</td>\n",
       "      <td>1</td>\n",
       "      <td>Adventure</td>\n",
       "      <td>United States</td>\n",
       "      <td>English</td>\n",
       "      <td>60</td>\n",
       "    </tr>\n",
       "    <tr>\n",
       "      <th>5552</th>\n",
       "      <td>5553</td>\n",
       "      <td>Buried Truth of the Maya</td>\n",
       "      <td>2020s</td>\n",
       "      <td>2</td>\n",
       "      <td>7+</td>\n",
       "      <td>5.4</td>\n",
       "      <td>40</td>\n",
       "      <td>1</td>\n",
       "      <td>Documentary</td>\n",
       "      <td>United States</td>\n",
       "      <td>English</td>\n",
       "      <td>47</td>\n",
       "    </tr>\n",
       "    <tr>\n",
       "      <th>5553</th>\n",
       "      <td>5554</td>\n",
       "      <td>The Liberty Story</td>\n",
       "      <td>1950s</td>\n",
       "      <td>65</td>\n",
       "      <td>all</td>\n",
       "      <td>7.4</td>\n",
       "      <td>40</td>\n",
       "      <td>1</td>\n",
       "      <td>Adventure</td>\n",
       "      <td>United States</td>\n",
       "      <td>English</td>\n",
       "      <td>60</td>\n",
       "    </tr>\n",
       "    <tr>\n",
       "      <th>5554</th>\n",
       "      <td>5555</td>\n",
       "      <td>Big Sur-Wild California</td>\n",
       "      <td>2010s</td>\n",
       "      <td>12</td>\n",
       "      <td>all</td>\n",
       "      <td>6.7</td>\n",
       "      <td>40</td>\n",
       "      <td>1</td>\n",
       "      <td>Documentary</td>\n",
       "      <td>United States</td>\n",
       "      <td>English</td>\n",
       "      <td>50</td>\n",
       "    </tr>\n",
       "    <tr>\n",
       "      <th>5555</th>\n",
       "      <td>5556</td>\n",
       "      <td>My Music Story: Yoshiki</td>\n",
       "      <td>2020s</td>\n",
       "      <td>1</td>\n",
       "      <td>16+</td>\n",
       "      <td>7.3</td>\n",
       "      <td>33</td>\n",
       "      <td>1</td>\n",
       "      <td>Documentary</td>\n",
       "      <td>United States</td>\n",
       "      <td>Japanese</td>\n",
       "      <td>47</td>\n",
       "    </tr>\n",
       "  </tbody>\n",
       "</table>\n",
       "<p>5556 rows × 12 columns</p>\n",
       "</div>"
      ],
      "text/plain": [
       "        ID                              Title Decade  Age of Movie  \\\n",
       "0        1                          Inception  2010s            12   \n",
       "1        2                         The Matrix  1990s            23   \n",
       "2        3             Avengers: Infinity War  2010s             4   \n",
       "3        4                 Back to the Future  1980s            37   \n",
       "4        5     The Good, the Bad and the Ugly  1960s            56   \n",
       "...    ...                                ...    ...           ...   \n",
       "5551  5552  The Story of the Animated Drawing  1950s            67   \n",
       "5552  5553           Buried Truth of the Maya  2020s             2   \n",
       "5553  5554                  The Liberty Story  1950s            65   \n",
       "5554  5555            Big Sur-Wild California  2010s            12   \n",
       "5555  5556            My Music Story: Yoshiki  2020s             1   \n",
       "\n",
       "     Age Category  IMDb  Rotten  Availability       Genres        Country  \\\n",
       "0             13+   8.8      87             1       Action  United States   \n",
       "1             18+   8.7      87             1       Action  United States   \n",
       "2             13+   8.5      84             1       Action  United States   \n",
       "3              7+   8.5      96             1    Adventure  United States   \n",
       "4             18+   8.8      97             2      Western          Italy   \n",
       "...           ...   ...     ...           ...          ...            ...   \n",
       "5551          all   7.6      41             1    Adventure  United States   \n",
       "5552           7+   5.4      40             1  Documentary  United States   \n",
       "5553          all   7.4      40             1    Adventure  United States   \n",
       "5554          all   6.7      40             1  Documentary  United States   \n",
       "5555          16+   7.3      33             1  Documentary  United States   \n",
       "\n",
       "      Language  Runtime  \n",
       "0      English      148  \n",
       "1      English      136  \n",
       "2      English      149  \n",
       "3      English      116  \n",
       "4      Italian      161  \n",
       "...        ...      ...  \n",
       "5551   English       60  \n",
       "5552   English       47  \n",
       "5553   English       60  \n",
       "5554   English       50  \n",
       "5555  Japanese       47  \n",
       "\n",
       "[5556 rows x 12 columns]"
      ]
     },
     "execution_count": 2,
     "metadata": {},
     "output_type": "execute_result"
    }
   ],
   "source": [
    "moviedata = pd.read_csv('Final-CLEAN-Dataset.csv')\n",
    "moviedata"
   ]
  },
  {
   "cell_type": "code",
   "execution_count": 3,
   "id": "b4e87bf1",
   "metadata": {},
   "outputs": [
    {
     "data": {
      "text/html": [
       "<div>\n",
       "<style scoped>\n",
       "    .dataframe tbody tr th:only-of-type {\n",
       "        vertical-align: middle;\n",
       "    }\n",
       "\n",
       "    .dataframe tbody tr th {\n",
       "        vertical-align: top;\n",
       "    }\n",
       "\n",
       "    .dataframe thead th {\n",
       "        text-align: right;\n",
       "    }\n",
       "</style>\n",
       "<table border=\"1\" class=\"dataframe\">\n",
       "  <thead>\n",
       "    <tr style=\"text-align: right;\">\n",
       "      <th></th>\n",
       "      <th>ID</th>\n",
       "      <th>Age of Movie</th>\n",
       "      <th>IMDb</th>\n",
       "      <th>Rotten</th>\n",
       "      <th>Availability</th>\n",
       "      <th>Runtime</th>\n",
       "    </tr>\n",
       "  </thead>\n",
       "  <tbody>\n",
       "    <tr>\n",
       "      <th>count</th>\n",
       "      <td>5556.000000</td>\n",
       "      <td>5556.000000</td>\n",
       "      <td>5556.000000</td>\n",
       "      <td>5556.000000</td>\n",
       "      <td>5556.000000</td>\n",
       "      <td>5556.000000</td>\n",
       "    </tr>\n",
       "    <tr>\n",
       "      <th>mean</th>\n",
       "      <td>2778.500000</td>\n",
       "      <td>14.583693</td>\n",
       "      <td>6.230148</td>\n",
       "      <td>60.207163</td>\n",
       "      <td>1.055796</td>\n",
       "      <td>100.980202</td>\n",
       "    </tr>\n",
       "    <tr>\n",
       "      <th>std</th>\n",
       "      <td>1604.023379</td>\n",
       "      <td>13.990212</td>\n",
       "      <td>1.078126</td>\n",
       "      <td>22.265142</td>\n",
       "      <td>0.234205</td>\n",
       "      <td>22.003043</td>\n",
       "    </tr>\n",
       "    <tr>\n",
       "      <th>min</th>\n",
       "      <td>1.000000</td>\n",
       "      <td>1.000000</td>\n",
       "      <td>1.100000</td>\n",
       "      <td>2.000000</td>\n",
       "      <td>1.000000</td>\n",
       "      <td>2.000000</td>\n",
       "    </tr>\n",
       "    <tr>\n",
       "      <th>25%</th>\n",
       "      <td>1389.750000</td>\n",
       "      <td>5.000000</td>\n",
       "      <td>5.600000</td>\n",
       "      <td>45.000000</td>\n",
       "      <td>1.000000</td>\n",
       "      <td>90.000000</td>\n",
       "    </tr>\n",
       "    <tr>\n",
       "      <th>50%</th>\n",
       "      <td>2778.500000</td>\n",
       "      <td>10.000000</td>\n",
       "      <td>6.300000</td>\n",
       "      <td>61.000000</td>\n",
       "      <td>1.000000</td>\n",
       "      <td>99.000000</td>\n",
       "    </tr>\n",
       "    <tr>\n",
       "      <th>75%</th>\n",
       "      <td>4167.250000</td>\n",
       "      <td>19.000000</td>\n",
       "      <td>7.000000</td>\n",
       "      <td>77.000000</td>\n",
       "      <td>1.000000</td>\n",
       "      <td>110.250000</td>\n",
       "    </tr>\n",
       "    <tr>\n",
       "      <th>max</th>\n",
       "      <td>5556.000000</td>\n",
       "      <td>120.000000</td>\n",
       "      <td>9.000000</td>\n",
       "      <td>100.000000</td>\n",
       "      <td>3.000000</td>\n",
       "      <td>359.000000</td>\n",
       "    </tr>\n",
       "  </tbody>\n",
       "</table>\n",
       "</div>"
      ],
      "text/plain": [
       "                ID  Age of Movie         IMDb       Rotten  Availability  \\\n",
       "count  5556.000000   5556.000000  5556.000000  5556.000000   5556.000000   \n",
       "mean   2778.500000     14.583693     6.230148    60.207163      1.055796   \n",
       "std    1604.023379     13.990212     1.078126    22.265142      0.234205   \n",
       "min       1.000000      1.000000     1.100000     2.000000      1.000000   \n",
       "25%    1389.750000      5.000000     5.600000    45.000000      1.000000   \n",
       "50%    2778.500000     10.000000     6.300000    61.000000      1.000000   \n",
       "75%    4167.250000     19.000000     7.000000    77.000000      1.000000   \n",
       "max    5556.000000    120.000000     9.000000   100.000000      3.000000   \n",
       "\n",
       "           Runtime  \n",
       "count  5556.000000  \n",
       "mean    100.980202  \n",
       "std      22.003043  \n",
       "min       2.000000  \n",
       "25%      90.000000  \n",
       "50%      99.000000  \n",
       "75%     110.250000  \n",
       "max     359.000000  "
      ]
     },
     "execution_count": 3,
     "metadata": {},
     "output_type": "execute_result"
    }
   ],
   "source": [
    "moviedata.describe()"
   ]
  },
  {
   "cell_type": "code",
   "execution_count": 4,
   "id": "b3c0f38a",
   "metadata": {
    "collapsed": true
   },
   "outputs": [
    {
     "data": {
      "text/html": [
       "<div>\n",
       "<style scoped>\n",
       "    .dataframe tbody tr th:only-of-type {\n",
       "        vertical-align: middle;\n",
       "    }\n",
       "\n",
       "    .dataframe tbody tr th {\n",
       "        vertical-align: top;\n",
       "    }\n",
       "\n",
       "    .dataframe thead th {\n",
       "        text-align: right;\n",
       "    }\n",
       "</style>\n",
       "<table border=\"1\" class=\"dataframe\">\n",
       "  <thead>\n",
       "    <tr style=\"text-align: right;\">\n",
       "      <th></th>\n",
       "      <th>ID</th>\n",
       "      <th>Title</th>\n",
       "      <th>Decade</th>\n",
       "      <th>Age of Movie</th>\n",
       "      <th>Age Category</th>\n",
       "      <th>IMDb</th>\n",
       "      <th>Rotten</th>\n",
       "      <th>Availability</th>\n",
       "      <th>Genres</th>\n",
       "      <th>Country</th>\n",
       "      <th>Language</th>\n",
       "      <th>Runtime</th>\n",
       "    </tr>\n",
       "  </thead>\n",
       "  <tbody>\n",
       "    <tr>\n",
       "      <th>1</th>\n",
       "      <td>2</td>\n",
       "      <td>The Matrix</td>\n",
       "      <td>1990s</td>\n",
       "      <td>23</td>\n",
       "      <td>18+</td>\n",
       "      <td>8.7</td>\n",
       "      <td>87</td>\n",
       "      <td>1</td>\n",
       "      <td>Action</td>\n",
       "      <td>United States</td>\n",
       "      <td>English</td>\n",
       "      <td>136</td>\n",
       "    </tr>\n",
       "    <tr>\n",
       "      <th>3</th>\n",
       "      <td>4</td>\n",
       "      <td>Back to the Future</td>\n",
       "      <td>1980s</td>\n",
       "      <td>37</td>\n",
       "      <td>7+</td>\n",
       "      <td>8.5</td>\n",
       "      <td>96</td>\n",
       "      <td>1</td>\n",
       "      <td>Adventure</td>\n",
       "      <td>United States</td>\n",
       "      <td>English</td>\n",
       "      <td>116</td>\n",
       "    </tr>\n",
       "    <tr>\n",
       "      <th>5</th>\n",
       "      <td>6</td>\n",
       "      <td>Spider-Man: Into the Spider-Verse</td>\n",
       "      <td>2010s</td>\n",
       "      <td>4</td>\n",
       "      <td>7+</td>\n",
       "      <td>8.4</td>\n",
       "      <td>97</td>\n",
       "      <td>1</td>\n",
       "      <td>Animation</td>\n",
       "      <td>United States</td>\n",
       "      <td>English</td>\n",
       "      <td>117</td>\n",
       "    </tr>\n",
       "    <tr>\n",
       "      <th>8</th>\n",
       "      <td>9</td>\n",
       "      <td>Raiders of the Lost Ark</td>\n",
       "      <td>1980s</td>\n",
       "      <td>41</td>\n",
       "      <td>7+</td>\n",
       "      <td>8.4</td>\n",
       "      <td>95</td>\n",
       "      <td>1</td>\n",
       "      <td>Action</td>\n",
       "      <td>United States</td>\n",
       "      <td>English</td>\n",
       "      <td>115</td>\n",
       "    </tr>\n",
       "    <tr>\n",
       "      <th>10</th>\n",
       "      <td>11</td>\n",
       "      <td>Taxi Driver</td>\n",
       "      <td>1970s</td>\n",
       "      <td>46</td>\n",
       "      <td>18+</td>\n",
       "      <td>8.3</td>\n",
       "      <td>95</td>\n",
       "      <td>1</td>\n",
       "      <td>Crime</td>\n",
       "      <td>United States</td>\n",
       "      <td>English</td>\n",
       "      <td>114</td>\n",
       "    </tr>\n",
       "    <tr>\n",
       "      <th>...</th>\n",
       "      <td>...</td>\n",
       "      <td>...</td>\n",
       "      <td>...</td>\n",
       "      <td>...</td>\n",
       "      <td>...</td>\n",
       "      <td>...</td>\n",
       "      <td>...</td>\n",
       "      <td>...</td>\n",
       "      <td>...</td>\n",
       "      <td>...</td>\n",
       "      <td>...</td>\n",
       "      <td>...</td>\n",
       "    </tr>\n",
       "    <tr>\n",
       "      <th>5543</th>\n",
       "      <td>5544</td>\n",
       "      <td>Own the Room</td>\n",
       "      <td>2020s</td>\n",
       "      <td>1</td>\n",
       "      <td>7+</td>\n",
       "      <td>6.4</td>\n",
       "      <td>46</td>\n",
       "      <td>1</td>\n",
       "      <td>Documentary</td>\n",
       "      <td>United States</td>\n",
       "      <td>English</td>\n",
       "      <td>91</td>\n",
       "    </tr>\n",
       "    <tr>\n",
       "      <th>5544</th>\n",
       "      <td>5545</td>\n",
       "      <td>Unidentified Flying Oddball</td>\n",
       "      <td>1970s</td>\n",
       "      <td>43</td>\n",
       "      <td>all</td>\n",
       "      <td>5.2</td>\n",
       "      <td>45</td>\n",
       "      <td>1</td>\n",
       "      <td>Adventure</td>\n",
       "      <td>United States</td>\n",
       "      <td>English</td>\n",
       "      <td>93</td>\n",
       "    </tr>\n",
       "    <tr>\n",
       "      <th>5546</th>\n",
       "      <td>5547</td>\n",
       "      <td>'Twas the Night</td>\n",
       "      <td>2000s</td>\n",
       "      <td>21</td>\n",
       "      <td>all</td>\n",
       "      <td>5.3</td>\n",
       "      <td>45</td>\n",
       "      <td>1</td>\n",
       "      <td>Comedy</td>\n",
       "      <td>United States</td>\n",
       "      <td>English</td>\n",
       "      <td>84</td>\n",
       "    </tr>\n",
       "    <tr>\n",
       "      <th>5551</th>\n",
       "      <td>5552</td>\n",
       "      <td>The Story of the Animated Drawing</td>\n",
       "      <td>1950s</td>\n",
       "      <td>67</td>\n",
       "      <td>all</td>\n",
       "      <td>7.6</td>\n",
       "      <td>41</td>\n",
       "      <td>1</td>\n",
       "      <td>Adventure</td>\n",
       "      <td>United States</td>\n",
       "      <td>English</td>\n",
       "      <td>60</td>\n",
       "    </tr>\n",
       "    <tr>\n",
       "      <th>5553</th>\n",
       "      <td>5554</td>\n",
       "      <td>The Liberty Story</td>\n",
       "      <td>1950s</td>\n",
       "      <td>65</td>\n",
       "      <td>all</td>\n",
       "      <td>7.4</td>\n",
       "      <td>40</td>\n",
       "      <td>1</td>\n",
       "      <td>Adventure</td>\n",
       "      <td>United States</td>\n",
       "      <td>English</td>\n",
       "      <td>60</td>\n",
       "    </tr>\n",
       "  </tbody>\n",
       "</table>\n",
       "<p>5216 rows × 12 columns</p>\n",
       "</div>"
      ],
      "text/plain": [
       "        ID                              Title Decade  Age of Movie  \\\n",
       "1        2                         The Matrix  1990s            23   \n",
       "3        4                 Back to the Future  1980s            37   \n",
       "5        6  Spider-Man: Into the Spider-Verse  2010s             4   \n",
       "8        9            Raiders of the Lost Ark  1980s            41   \n",
       "10      11                        Taxi Driver  1970s            46   \n",
       "...    ...                                ...    ...           ...   \n",
       "5543  5544                       Own the Room  2020s             1   \n",
       "5544  5545        Unidentified Flying Oddball  1970s            43   \n",
       "5546  5547                    'Twas the Night  2000s            21   \n",
       "5551  5552  The Story of the Animated Drawing  1950s            67   \n",
       "5553  5554                  The Liberty Story  1950s            65   \n",
       "\n",
       "     Age Category  IMDb  Rotten  Availability       Genres        Country  \\\n",
       "1             18+   8.7      87             1       Action  United States   \n",
       "3              7+   8.5      96             1    Adventure  United States   \n",
       "5              7+   8.4      97             1    Animation  United States   \n",
       "8              7+   8.4      95             1       Action  United States   \n",
       "10            18+   8.3      95             1        Crime  United States   \n",
       "...           ...   ...     ...           ...          ...            ...   \n",
       "5543           7+   6.4      46             1  Documentary  United States   \n",
       "5544          all   5.2      45             1    Adventure  United States   \n",
       "5546          all   5.3      45             1       Comedy  United States   \n",
       "5551          all   7.6      41             1    Adventure  United States   \n",
       "5553          all   7.4      40             1    Adventure  United States   \n",
       "\n",
       "     Language  Runtime  \n",
       "1     English      136  \n",
       "3     English      116  \n",
       "5     English      117  \n",
       "8     English      115  \n",
       "10    English      114  \n",
       "...       ...      ...  \n",
       "5543  English       91  \n",
       "5544  English       93  \n",
       "5546  English       84  \n",
       "5551  English       60  \n",
       "5553  English       60  \n",
       "\n",
       "[5216 rows x 12 columns]"
      ]
     },
     "execution_count": 4,
     "metadata": {},
     "output_type": "execute_result"
    }
   ],
   "source": [
    "# Quantile 25% and 75%\n",
    "Q1 = moviedata['Runtime'].quantile(0.25)\n",
    "Q3 = moviedata['Runtime'].quantile(0.75)\n",
    "\n",
    "#Interquartile range (IQR)\n",
    "IQR = Q3 - Q1\n",
    "\n",
    "# Remove the outliers\n",
    "moviedata = moviedata.drop(moviedata[(moviedata['Runtime'] <= Q1 - 1.5*IQR) | (moviedata['Runtime'] >= Q3 + 1.5*IQR)].index)\n",
    "moviedata\n",
    "\n",
    "#moviedata.rename(columns = {\"index\": \"ID\"})"
   ]
  },
  {
   "cell_type": "code",
   "execution_count": 5,
   "id": "70b2fdfc",
   "metadata": {
    "scrolled": false
   },
   "outputs": [
    {
     "data": {
      "text/html": [
       "<div>\n",
       "<style scoped>\n",
       "    .dataframe tbody tr th:only-of-type {\n",
       "        vertical-align: middle;\n",
       "    }\n",
       "\n",
       "    .dataframe tbody tr th {\n",
       "        vertical-align: top;\n",
       "    }\n",
       "\n",
       "    .dataframe thead th {\n",
       "        text-align: right;\n",
       "    }\n",
       "</style>\n",
       "<table border=\"1\" class=\"dataframe\">\n",
       "  <thead>\n",
       "    <tr style=\"text-align: right;\">\n",
       "      <th></th>\n",
       "      <th>ID</th>\n",
       "      <th>Title</th>\n",
       "      <th>Decade</th>\n",
       "      <th>Age of Movie</th>\n",
       "      <th>Age Category</th>\n",
       "      <th>IMDb</th>\n",
       "      <th>Rotten</th>\n",
       "      <th>Availability</th>\n",
       "      <th>Genres</th>\n",
       "      <th>Country</th>\n",
       "      <th>Language</th>\n",
       "      <th>Runtime</th>\n",
       "    </tr>\n",
       "  </thead>\n",
       "  <tbody>\n",
       "    <tr>\n",
       "      <th>0</th>\n",
       "      <td>1</td>\n",
       "      <td>The Matrix</td>\n",
       "      <td>1990s</td>\n",
       "      <td>23</td>\n",
       "      <td>18+</td>\n",
       "      <td>8.7</td>\n",
       "      <td>87</td>\n",
       "      <td>1</td>\n",
       "      <td>Action</td>\n",
       "      <td>United States</td>\n",
       "      <td>English</td>\n",
       "      <td>136</td>\n",
       "    </tr>\n",
       "    <tr>\n",
       "      <th>1</th>\n",
       "      <td>2</td>\n",
       "      <td>Back to the Future</td>\n",
       "      <td>1980s</td>\n",
       "      <td>37</td>\n",
       "      <td>7+</td>\n",
       "      <td>8.5</td>\n",
       "      <td>96</td>\n",
       "      <td>1</td>\n",
       "      <td>Adventure</td>\n",
       "      <td>United States</td>\n",
       "      <td>English</td>\n",
       "      <td>116</td>\n",
       "    </tr>\n",
       "    <tr>\n",
       "      <th>2</th>\n",
       "      <td>3</td>\n",
       "      <td>Spider-Man: Into the Spider-Verse</td>\n",
       "      <td>2010s</td>\n",
       "      <td>4</td>\n",
       "      <td>7+</td>\n",
       "      <td>8.4</td>\n",
       "      <td>97</td>\n",
       "      <td>1</td>\n",
       "      <td>Animation</td>\n",
       "      <td>United States</td>\n",
       "      <td>English</td>\n",
       "      <td>117</td>\n",
       "    </tr>\n",
       "    <tr>\n",
       "      <th>3</th>\n",
       "      <td>4</td>\n",
       "      <td>Raiders of the Lost Ark</td>\n",
       "      <td>1980s</td>\n",
       "      <td>41</td>\n",
       "      <td>7+</td>\n",
       "      <td>8.4</td>\n",
       "      <td>95</td>\n",
       "      <td>1</td>\n",
       "      <td>Action</td>\n",
       "      <td>United States</td>\n",
       "      <td>English</td>\n",
       "      <td>115</td>\n",
       "    </tr>\n",
       "    <tr>\n",
       "      <th>4</th>\n",
       "      <td>5</td>\n",
       "      <td>Taxi Driver</td>\n",
       "      <td>1970s</td>\n",
       "      <td>46</td>\n",
       "      <td>18+</td>\n",
       "      <td>8.3</td>\n",
       "      <td>95</td>\n",
       "      <td>1</td>\n",
       "      <td>Crime</td>\n",
       "      <td>United States</td>\n",
       "      <td>English</td>\n",
       "      <td>114</td>\n",
       "    </tr>\n",
       "    <tr>\n",
       "      <th>...</th>\n",
       "      <td>...</td>\n",
       "      <td>...</td>\n",
       "      <td>...</td>\n",
       "      <td>...</td>\n",
       "      <td>...</td>\n",
       "      <td>...</td>\n",
       "      <td>...</td>\n",
       "      <td>...</td>\n",
       "      <td>...</td>\n",
       "      <td>...</td>\n",
       "      <td>...</td>\n",
       "      <td>...</td>\n",
       "    </tr>\n",
       "    <tr>\n",
       "      <th>5211</th>\n",
       "      <td>5212</td>\n",
       "      <td>Own the Room</td>\n",
       "      <td>2020s</td>\n",
       "      <td>1</td>\n",
       "      <td>7+</td>\n",
       "      <td>6.4</td>\n",
       "      <td>46</td>\n",
       "      <td>1</td>\n",
       "      <td>Documentary</td>\n",
       "      <td>United States</td>\n",
       "      <td>English</td>\n",
       "      <td>91</td>\n",
       "    </tr>\n",
       "    <tr>\n",
       "      <th>5212</th>\n",
       "      <td>5213</td>\n",
       "      <td>Unidentified Flying Oddball</td>\n",
       "      <td>1970s</td>\n",
       "      <td>43</td>\n",
       "      <td>all</td>\n",
       "      <td>5.2</td>\n",
       "      <td>45</td>\n",
       "      <td>1</td>\n",
       "      <td>Adventure</td>\n",
       "      <td>United States</td>\n",
       "      <td>English</td>\n",
       "      <td>93</td>\n",
       "    </tr>\n",
       "    <tr>\n",
       "      <th>5213</th>\n",
       "      <td>5214</td>\n",
       "      <td>'Twas the Night</td>\n",
       "      <td>2000s</td>\n",
       "      <td>21</td>\n",
       "      <td>all</td>\n",
       "      <td>5.3</td>\n",
       "      <td>45</td>\n",
       "      <td>1</td>\n",
       "      <td>Comedy</td>\n",
       "      <td>United States</td>\n",
       "      <td>English</td>\n",
       "      <td>84</td>\n",
       "    </tr>\n",
       "    <tr>\n",
       "      <th>5214</th>\n",
       "      <td>5215</td>\n",
       "      <td>The Story of the Animated Drawing</td>\n",
       "      <td>1950s</td>\n",
       "      <td>67</td>\n",
       "      <td>all</td>\n",
       "      <td>7.6</td>\n",
       "      <td>41</td>\n",
       "      <td>1</td>\n",
       "      <td>Adventure</td>\n",
       "      <td>United States</td>\n",
       "      <td>English</td>\n",
       "      <td>60</td>\n",
       "    </tr>\n",
       "    <tr>\n",
       "      <th>5215</th>\n",
       "      <td>5216</td>\n",
       "      <td>The Liberty Story</td>\n",
       "      <td>1950s</td>\n",
       "      <td>65</td>\n",
       "      <td>all</td>\n",
       "      <td>7.4</td>\n",
       "      <td>40</td>\n",
       "      <td>1</td>\n",
       "      <td>Adventure</td>\n",
       "      <td>United States</td>\n",
       "      <td>English</td>\n",
       "      <td>60</td>\n",
       "    </tr>\n",
       "  </tbody>\n",
       "</table>\n",
       "<p>5216 rows × 12 columns</p>\n",
       "</div>"
      ],
      "text/plain": [
       "        ID                              Title Decade  Age of Movie  \\\n",
       "0        1                         The Matrix  1990s            23   \n",
       "1        2                 Back to the Future  1980s            37   \n",
       "2        3  Spider-Man: Into the Spider-Verse  2010s             4   \n",
       "3        4            Raiders of the Lost Ark  1980s            41   \n",
       "4        5                        Taxi Driver  1970s            46   \n",
       "...    ...                                ...    ...           ...   \n",
       "5211  5212                       Own the Room  2020s             1   \n",
       "5212  5213        Unidentified Flying Oddball  1970s            43   \n",
       "5213  5214                    'Twas the Night  2000s            21   \n",
       "5214  5215  The Story of the Animated Drawing  1950s            67   \n",
       "5215  5216                  The Liberty Story  1950s            65   \n",
       "\n",
       "     Age Category  IMDb  Rotten  Availability       Genres        Country  \\\n",
       "0             18+   8.7      87             1       Action  United States   \n",
       "1              7+   8.5      96             1    Adventure  United States   \n",
       "2              7+   8.4      97             1    Animation  United States   \n",
       "3              7+   8.4      95             1       Action  United States   \n",
       "4             18+   8.3      95             1        Crime  United States   \n",
       "...           ...   ...     ...           ...          ...            ...   \n",
       "5211           7+   6.4      46             1  Documentary  United States   \n",
       "5212          all   5.2      45             1    Adventure  United States   \n",
       "5213          all   5.3      45             1       Comedy  United States   \n",
       "5214          all   7.6      41             1    Adventure  United States   \n",
       "5215          all   7.4      40             1    Adventure  United States   \n",
       "\n",
       "     Language  Runtime  \n",
       "0     English      136  \n",
       "1     English      116  \n",
       "2     English      117  \n",
       "3     English      115  \n",
       "4     English      114  \n",
       "...       ...      ...  \n",
       "5211  English       91  \n",
       "5212  English       93  \n",
       "5213  English       84  \n",
       "5214  English       60  \n",
       "5215  English       60  \n",
       "\n",
       "[5216 rows x 12 columns]"
      ]
     },
     "execution_count": 5,
     "metadata": {},
     "output_type": "execute_result"
    }
   ],
   "source": [
    "moviedata = moviedata.reset_index()\n",
    "moviedata = moviedata.drop(columns = ['ID', 'index'])\n",
    "ID = []\n",
    "for i in range(1, len(moviedata) + 1):\n",
    "    ID.append(i)\n",
    "moviedata.insert(0, \"ID\", ID)\n",
    "moviedata"
   ]
  },
  {
   "cell_type": "code",
   "execution_count": 6,
   "id": "ba481d49",
   "metadata": {},
   "outputs": [
    {
     "name": "stdout",
     "output_type": "stream",
     "text": [
      "<class 'pandas.core.frame.DataFrame'>\n",
      "RangeIndex: 5216 entries, 0 to 5215\n",
      "Data columns (total 12 columns):\n",
      " #   Column        Non-Null Count  Dtype  \n",
      "---  ------        --------------  -----  \n",
      " 0   ID            5216 non-null   int64  \n",
      " 1   Title         5216 non-null   object \n",
      " 2   Decade        5216 non-null   object \n",
      " 3   Age of Movie  5216 non-null   int64  \n",
      " 4   Age Category  5216 non-null   object \n",
      " 5   IMDb          5216 non-null   float64\n",
      " 6   Rotten        5216 non-null   int64  \n",
      " 7   Availability  5216 non-null   int64  \n",
      " 8   Genres        5216 non-null   object \n",
      " 9   Country       5216 non-null   object \n",
      " 10  Language      5216 non-null   object \n",
      " 11  Runtime       5216 non-null   int64  \n",
      "dtypes: float64(1), int64(5), object(6)\n",
      "memory usage: 489.1+ KB\n"
     ]
    }
   ],
   "source": [
    "moviedata.info()"
   ]
  },
  {
   "cell_type": "markdown",
   "id": "31bb63dd",
   "metadata": {},
   "source": [
    "## Numeric Variables"
   ]
  },
  {
   "cell_type": "code",
   "execution_count": 7,
   "id": "373c2184",
   "metadata": {},
   "outputs": [],
   "source": [
    "EDA_numeric = [\"IMDb\", \"Rotten\", \"Runtime\"]"
   ]
  },
  {
   "cell_type": "code",
   "execution_count": 8,
   "id": "c0669e8f",
   "metadata": {
    "scrolled": false
   },
   "outputs": [
    {
     "data": {
      "text/html": [
       "<div>\n",
       "<style scoped>\n",
       "    .dataframe tbody tr th:only-of-type {\n",
       "        vertical-align: middle;\n",
       "    }\n",
       "\n",
       "    .dataframe tbody tr th {\n",
       "        vertical-align: top;\n",
       "    }\n",
       "\n",
       "    .dataframe thead th {\n",
       "        text-align: right;\n",
       "    }\n",
       "</style>\n",
       "<table border=\"1\" class=\"dataframe\">\n",
       "  <thead>\n",
       "    <tr style=\"text-align: right;\">\n",
       "      <th></th>\n",
       "      <th>IMDb</th>\n",
       "      <th>Rotten</th>\n",
       "      <th>Runtime</th>\n",
       "    </tr>\n",
       "  </thead>\n",
       "  <tbody>\n",
       "    <tr>\n",
       "      <th>count</th>\n",
       "      <td>5216.000000</td>\n",
       "      <td>5216.000000</td>\n",
       "      <td>5216.000000</td>\n",
       "    </tr>\n",
       "    <tr>\n",
       "      <th>mean</th>\n",
       "      <td>6.179870</td>\n",
       "      <td>59.836273</td>\n",
       "      <td>100.319018</td>\n",
       "    </tr>\n",
       "    <tr>\n",
       "      <th>std</th>\n",
       "      <td>1.064067</td>\n",
       "      <td>22.375588</td>\n",
       "      <td>14.473748</td>\n",
       "    </tr>\n",
       "    <tr>\n",
       "      <th>min</th>\n",
       "      <td>1.100000</td>\n",
       "      <td>2.000000</td>\n",
       "      <td>60.000000</td>\n",
       "    </tr>\n",
       "    <tr>\n",
       "      <th>25%</th>\n",
       "      <td>5.600000</td>\n",
       "      <td>45.000000</td>\n",
       "      <td>90.000000</td>\n",
       "    </tr>\n",
       "    <tr>\n",
       "      <th>50%</th>\n",
       "      <td>6.300000</td>\n",
       "      <td>60.000000</td>\n",
       "      <td>98.000000</td>\n",
       "    </tr>\n",
       "    <tr>\n",
       "      <th>75%</th>\n",
       "      <td>6.900000</td>\n",
       "      <td>76.000000</td>\n",
       "      <td>109.000000</td>\n",
       "    </tr>\n",
       "    <tr>\n",
       "      <th>max</th>\n",
       "      <td>9.000000</td>\n",
       "      <td>100.000000</td>\n",
       "      <td>140.000000</td>\n",
       "    </tr>\n",
       "  </tbody>\n",
       "</table>\n",
       "</div>"
      ],
      "text/plain": [
       "              IMDb       Rotten      Runtime\n",
       "count  5216.000000  5216.000000  5216.000000\n",
       "mean      6.179870    59.836273   100.319018\n",
       "std       1.064067    22.375588    14.473748\n",
       "min       1.100000     2.000000    60.000000\n",
       "25%       5.600000    45.000000    90.000000\n",
       "50%       6.300000    60.000000    98.000000\n",
       "75%       6.900000    76.000000   109.000000\n",
       "max       9.000000   100.000000   140.000000"
      ]
     },
     "execution_count": 8,
     "metadata": {},
     "output_type": "execute_result"
    }
   ],
   "source": [
    "moviedata[EDA_numeric].describe()"
   ]
  },
  {
   "cell_type": "code",
   "execution_count": 9,
   "id": "0f25fa25",
   "metadata": {},
   "outputs": [
    {
     "data": {
      "image/png": "[encoded data removed]",
      "text/plain": [
       "<Figure size 1440x1440 with 9 Axes>"
      ]
     },
     "metadata": {},
     "output_type": "display_data"
    }
   ],
   "source": [
    "# Draw boxplot, histplot and violinplot of IMDb, Rotten and Runtime\n",
    "f, axes = plt.subplots(3, 3, figsize=(20, 20))\n",
    "\n",
    "count = 0\n",
    "for i in EDA_numeric:\n",
    "    sb.boxplot(data = moviedata[i], orient = \"h\", ax = axes[count,0])\n",
    "    sb.histplot(data = moviedata[i], ax = axes[count,1])\n",
    "    sb.violinplot(data = moviedata[i], orient = \"h\", ax = axes[count,2])\n",
    "    count += 1"
   ]
  },
  {
   "cell_type": "markdown",
   "id": "d7b16b09",
   "metadata": {},
   "source": [
    "## Categorical Variables"
   ]
  },
  {
   "cell_type": "code",
   "execution_count": 10,
   "id": "f290bc47",
   "metadata": {},
   "outputs": [],
   "source": [
    "EDA_categorical = [\"Decade\", \"Age Category\", \"Availability\", \"Genres\", \"Country\", \"Language\"]\n",
    "\n",
    "\n",
    "# Orders for catplot\n",
    "Decade_order = ['2020s', '2010s', '2000s', '1990s', '1980s', '1970s', '1960s', '1950s', '1940s', '1930s', '1920s', '1910s', '1900s']\n",
    "Age_Category_order = [\"18+\", \"16+\", \"13+\", \"7+\", \"all\"]\n",
    "Availability_order = [1, 2, 3]\n",
    "Genres_order = [\"Comedy\", \"Drama\", \"Action\", \"Documentary\", \"Animation\", \"Crime\", \"Horror\", \"Biography\", \"Adventure\", \"Thriller\", \"Family\", \"Fantasy\", \"Mystery\", \"Romance\", \"Western\", \"Sci-Fi\", \"Music\", \"Sport\", \"Musical\", \"War\", \"Talk-Show\"]\n",
    "Country_order = moviedata[\"Country\"].value_counts()[:10].index.tolist()\n",
    "Language_order = [\"English\", \"French\", \"Hindi\", \"Spanish\", \"Japanese\", \"Italian\", \"Mandarin\", \"Korean\", \"Arabic\", \"German\", \"Indonesian\", \"Cantonese\", \"Turkish\", \"Polish\", \"Swedish\", \"Russian\", \"Portuguese\"]"
   ]
  },
  {
   "cell_type": "code",
   "execution_count": 11,
   "id": "87e0d7fc",
   "metadata": {
    "scrolled": false
   },
   "outputs": [
    {
     "data": {
      "text/plain": [
       "<seaborn.axisgrid.FacetGrid at 0x242ddea9490>"
      ]
     },
     "execution_count": 11,
     "metadata": {},
     "output_type": "execute_result"
    },
    {
     "data": {
      "image/png": "[encoded data removed]",
      "text/plain": [
       "<Figure size 576x576 with 1 Axes>"
      ]
     },
     "metadata": {},
     "output_type": "display_data"
    }
   ],
   "source": [
    "sb.catplot(y = \"Decade\", data = moviedata[EDA_categorical], kind = \"count\", order = Decade_order, height = 8)"
   ]
  },
  {
   "cell_type": "code",
   "execution_count": 12,
   "id": "d72e3687",
   "metadata": {
    "scrolled": true
   },
   "outputs": [
    {
     "data": {
      "text/plain": [
       "18+    2617\n",
       "13+    1095\n",
       "7+      940\n",
       "all     359\n",
       "16+     205\n",
       "Name: Age Category, dtype: int64"
      ]
     },
     "execution_count": 12,
     "metadata": {},
     "output_type": "execute_result"
    }
   ],
   "source": [
    "moviedata[\"Age Category\"].value_counts()"
   ]
  },
  {
   "cell_type": "code",
   "execution_count": 13,
   "id": "02b52f88",
   "metadata": {},
   "outputs": [
    {
     "data": {
      "text/plain": [
       "<seaborn.axisgrid.FacetGrid at 0x242df1a44c0>"
      ]
     },
     "execution_count": 13,
     "metadata": {},
     "output_type": "execute_result"
    },
    {
     "data": {
      "image/png": "[encoded data removed]",
      "text/plain": [
       "<Figure size 576x576 with 1 Axes>"
      ]
     },
     "metadata": {},
     "output_type": "display_data"
    }
   ],
   "source": [
    "sb.catplot(y = \"Age Category\", data = moviedata[EDA_categorical], kind = \"count\", order = Age_Category_order, height = 8)"
   ]
  },
  {
   "cell_type": "code",
   "execution_count": 14,
   "id": "d958e7b5",
   "metadata": {},
   "outputs": [
    {
     "data": {
      "text/plain": [
       "1    4924\n",
       "2     286\n",
       "3       6\n",
       "Name: Availability, dtype: int64"
      ]
     },
     "execution_count": 14,
     "metadata": {},
     "output_type": "execute_result"
    }
   ],
   "source": [
    "moviedata[\"Availability\"].value_counts()"
   ]
  },
  {
   "cell_type": "code",
   "execution_count": 15,
   "id": "df0ca522",
   "metadata": {
    "scrolled": false
   },
   "outputs": [
    {
     "data": {
      "text/plain": [
       "<seaborn.axisgrid.FacetGrid at 0x242de6cd160>"
      ]
     },
     "execution_count": 15,
     "metadata": {},
     "output_type": "execute_result"
    },
    {
     "data": {
      "image/png": "[encoded data removed]",
      "text/plain": [
       "<Figure size 576x576 with 1 Axes>"
      ]
     },
     "metadata": {},
     "output_type": "display_data"
    }
   ],
   "source": [
    "sb.catplot(y = \"Availability\", data = moviedata[EDA_categorical], kind = \"count\", order = Availability_order, height = 8)"
   ]
  },
  {
   "cell_type": "code",
   "execution_count": 16,
   "id": "c86bc20e",
   "metadata": {},
   "outputs": [
    {
     "data": {
      "text/plain": [
       "Comedy         1307\n",
       "Drama          1012\n",
       "Action          882\n",
       "Documentary     427\n",
       "Animation       339\n",
       "Crime           298\n",
       "Horror          273\n",
       "Biography       268\n",
       "Adventure       259\n",
       "Thriller         48\n",
       "Family           23\n",
       "Fantasy          20\n",
       "Mystery          16\n",
       "Romance          13\n",
       "Western          11\n",
       "Sci-Fi           10\n",
       "Music             4\n",
       "Sport             2\n",
       "Musical           2\n",
       "War               1\n",
       "Talk-Show         1\n",
       "Name: Genres, dtype: int64"
      ]
     },
     "execution_count": 16,
     "metadata": {},
     "output_type": "execute_result"
    }
   ],
   "source": [
    "moviedata[\"Genres\"].value_counts()"
   ]
  },
  {
   "cell_type": "code",
   "execution_count": 17,
   "id": "56172bdd",
   "metadata": {
    "scrolled": false
   },
   "outputs": [
    {
     "data": {
      "text/plain": [
       "<seaborn.axisgrid.FacetGrid at 0x242de3a5df0>"
      ]
     },
     "execution_count": 17,
     "metadata": {},
     "output_type": "execute_result"
    },
    {
     "data": {
      "image/png": "[encoded data removed]",
      "text/plain": [
       "<Figure size 576x576 with 1 Axes>"
      ]
     },
     "metadata": {},
     "output_type": "display_data"
    }
   ],
   "source": [
    "sb.catplot(y = \"Genres\", data = moviedata[EDA_categorical], kind = \"count\", order = Genres_order, height = 8)"
   ]
  },
  {
   "cell_type": "code",
   "execution_count": 18,
   "id": "b9b474a5",
   "metadata": {
    "scrolled": true
   },
   "outputs": [
    {
     "data": {
      "text/plain": [
       "United States     3387\n",
       "United Kingdom     534\n",
       "Canada             250\n",
       "France             151\n",
       "India              106\n",
       "                  ... \n",
       "Nepal                1\n",
       "Bangladesh           1\n",
       "Paraguay             1\n",
       "Malta                1\n",
       "Bolivia              1\n",
       "Name: Country, Length: 78, dtype: int64"
      ]
     },
     "execution_count": 18,
     "metadata": {},
     "output_type": "execute_result"
    }
   ],
   "source": [
    "moviedata[\"Country\"].value_counts()"
   ]
  },
  {
   "cell_type": "markdown",
   "id": "16c3c80e",
   "metadata": {},
   "source": [
    "Movies come from many countries, therefore, we choose 10 countries with the highest numbers of movies."
   ]
  },
  {
   "cell_type": "code",
   "execution_count": 19,
   "id": "388e112f",
   "metadata": {},
   "outputs": [
    {
     "data": {
      "text/plain": [
       "<seaborn.axisgrid.FacetGrid at 0x242de526e20>"
      ]
     },
     "execution_count": 19,
     "metadata": {},
     "output_type": "execute_result"
    },
    {
     "data": {
      "image/png": "[encoded data removed]",
      "text/plain": [
       "<Figure size 576x576 with 1 Axes>"
      ]
     },
     "metadata": {},
     "output_type": "display_data"
    }
   ],
   "source": [
    "sb.catplot(y = \"Country\", data = moviedata[EDA_categorical], kind = \"count\", order = Country_order, height = 8)"
   ]
  },
  {
   "cell_type": "code",
   "execution_count": 20,
   "id": "47293576",
   "metadata": {},
   "outputs": [
    {
     "data": {
      "text/plain": [
       "English                   4603\n",
       "French                      94\n",
       "Hindi                       93\n",
       "Spanish                     89\n",
       "Japanese                    37\n",
       "Italian                     30\n",
       "Mandarin                    30\n",
       "Korean                      26\n",
       "Arabic                      20\n",
       "German                      18\n",
       "Indonesian                  17\n",
       "Cantonese                   15\n",
       "Turkish                     12\n",
       "Polish                      11\n",
       "Swedish                     11\n",
       "Russian                     10\n",
       "Portuguese                  10\n",
       "Danish                       8\n",
       "Norwegian                    8\n",
       "Filipino                     7\n",
       "Thai                         7\n",
       "Chinese                      6\n",
       "Tagalog                      4\n",
       "Catalan                      3\n",
       "Hebrew                       3\n",
       "Icelandic                    3\n",
       "Dutch                        3\n",
       "Tamil                        2\n",
       "None                         2\n",
       "Afrikaans                    2\n",
       "American Sign Language       2\n",
       "Telugu                       2\n",
       "Khmer                        2\n",
       "Persian                      2\n",
       "Malay                        1\n",
       "Inuktitut                    1\n",
       "Irish                        1\n",
       "Bangla                       1\n",
       "Serbian                      1\n",
       "Malayalam                    1\n",
       "Flemish                      1\n",
       "Hawaiian                     1\n",
       "Maori                        1\n",
       "Punjabi                      1\n",
       "Kurdish                      1\n",
       "Aramaic                      1\n",
       "Basque                       1\n",
       "Greek                        1\n",
       "Nepali                       1\n",
       "Hungarian                    1\n",
       "Maya                         1\n",
       "Finnish                      1\n",
       "Wolof                        1\n",
       "Yiddish                      1\n",
       "Urdu                         1\n",
       "Vietnamese                   1\n",
       "East-Greenlandic             1\n",
       "Albanian                     1\n",
       "Name: Language, dtype: int64"
      ]
     },
     "execution_count": 20,
     "metadata": {},
     "output_type": "execute_result"
    }
   ],
   "source": [
    "moviedata[\"Language\"].value_counts()"
   ]
  },
  {
   "cell_type": "markdown",
   "id": "c6bdb016",
   "metadata": {},
   "source": [
    "Our team choose first 10 languages."
   ]
  },
  {
   "cell_type": "code",
   "execution_count": 21,
   "id": "cff81803",
   "metadata": {
    "scrolled": false
   },
   "outputs": [
    {
     "data": {
      "text/plain": [
       "<seaborn.axisgrid.FacetGrid at 0x242dec87730>"
      ]
     },
     "execution_count": 21,
     "metadata": {},
     "output_type": "execute_result"
    },
    {
     "data": {
      "image/png": "[encoded data removed]",
      "text/plain": [
       "<Figure size 576x576 with 1 Axes>"
      ]
     },
     "metadata": {},
     "output_type": "display_data"
    }
   ],
   "source": [
    "sb.catplot(y = \"Language\", data = moviedata[EDA_categorical], kind = \"count\", order = Language_order, height = 8)"
   ]
  },
  {
   "cell_type": "markdown",
   "id": "81c03c92",
   "metadata": {},
   "source": [
    "## Correlation"
   ]
  },
  {
   "cell_type": "code",
   "execution_count": 22,
   "id": "17b5c020",
   "metadata": {},
   "outputs": [],
   "source": [
    "IMDb = pd.DataFrame(moviedata[\"IMDb\"])\n",
    "Rotten = pd.DataFrame(moviedata[\"Rotten\"])\n",
    "Runtime = pd.DataFrame(moviedata[\"Runtime\"])\n",
    "Availability = pd.DataFrame(moviedata[\"Availability\"])\n",
    "Age_of_Movie = pd.DataFrame(moviedata[\"Age of Movie\"])"
   ]
  },
  {
   "cell_type": "code",
   "execution_count": 23,
   "id": "ef2d8b0f",
   "metadata": {},
   "outputs": [
    {
     "data": {
      "text/plain": [
       "<AxesSubplot:>"
      ]
     },
     "execution_count": 23,
     "metadata": {},
     "output_type": "execute_result"
    },
    {
     "data": {
      "image/png": "[encoded data removed]",
      "text/plain": [
       "<Figure size 864x576 with 2 Axes>"
      ]
     },
     "metadata": {},
     "output_type": "display_data"
    }
   ],
   "source": [
    "numeric_corr = pd.concat([IMDb, Rotten, Runtime, Availability, Age_of_Movie], axis = 1)\n",
    "\n",
    "f = plt.figure(figsize=(12, 8))\n",
    "sb.heatmap(numeric_corr.corr(), vmin = -1, vmax = 1, annot = True, fmt = \".2f\")"
   ]
  },
  {
   "cell_type": "code",
   "execution_count": null,
   "id": "99f83bc6",
   "metadata": {},
   "outputs": [],
   "source": []
  }
 ],
 "metadata": {
  "kernelspec": {
   "display_name": "Python 3 (ipykernel)",
   "language": "python",
   "name": "python3"
  },
  "language_info": {
   "codemirror_mode": {
    "name": "ipython",
    "version": 3
   },
   "file_extension": ".py",
   "mimetype": "text/x-python",
   "name": "python",
   "nbconvert_exporter": "python",
   "pygments_lexer": "ipython3",
   "version": "3.9.7"
  }
 },
 "nbformat": 4,
 "nbformat_minor": 5
}
