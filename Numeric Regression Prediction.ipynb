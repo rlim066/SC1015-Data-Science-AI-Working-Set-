{
 "cells": [
  {
   "cell_type": "code",
   "execution_count": 2,
   "id": "88ec0579",
   "metadata": {},
   "outputs": [],
   "source": [
    "# Basic Libraries\n",
    "import numpy as np\n",
    "import pandas as pd\n",
    "import seaborn as sb\n",
    "import matplotlib.pyplot as plt # we only need pyplot\n",
    "sb.set() # set the default Seaborn style for graphics"
   ]
  },
  {
   "cell_type": "markdown",
   "id": "47ba7014",
   "metadata": {},
   "source": [
    "Import Dataset "
   ]
  },
  {
   "cell_type": "code",
   "execution_count": 3,
   "id": "b6745571",
   "metadata": {},
   "outputs": [
    {
     "data": {
      "text/html": [
       "<div>\n",
       "<style scoped>\n",
       "    .dataframe tbody tr th:only-of-type {\n",
       "        vertical-align: middle;\n",
       "    }\n",
       "\n",
       "    .dataframe tbody tr th {\n",
       "        vertical-align: top;\n",
       "    }\n",
       "\n",
       "    .dataframe thead th {\n",
       "        text-align: right;\n",
       "    }\n",
       "</style>\n",
       "<table border=\"1\" class=\"dataframe\">\n",
       "  <thead>\n",
       "    <tr style=\"text-align: right;\">\n",
       "      <th></th>\n",
       "      <th>ID</th>\n",
       "      <th>Title</th>\n",
       "      <th>Decade</th>\n",
       "      <th>Age</th>\n",
       "      <th>IMDb</th>\n",
       "      <th>Rotten</th>\n",
       "      <th>Availability Score</th>\n",
       "      <th>Directors</th>\n",
       "      <th>Genres</th>\n",
       "      <th>Country</th>\n",
       "      <th>Language</th>\n",
       "      <th>Runtime</th>\n",
       "    </tr>\n",
       "  </thead>\n",
       "  <tbody>\n",
       "    <tr>\n",
       "      <th>0</th>\n",
       "      <td>1</td>\n",
       "      <td>Inception</td>\n",
       "      <td>2010s</td>\n",
       "      <td>13+</td>\n",
       "      <td>8.8</td>\n",
       "      <td>87</td>\n",
       "      <td>1</td>\n",
       "      <td>Christopher Nolan</td>\n",
       "      <td>Action</td>\n",
       "      <td>United States</td>\n",
       "      <td>English</td>\n",
       "      <td>148</td>\n",
       "    </tr>\n",
       "    <tr>\n",
       "      <th>1</th>\n",
       "      <td>2</td>\n",
       "      <td>The Matrix</td>\n",
       "      <td>1990s</td>\n",
       "      <td>18+</td>\n",
       "      <td>8.7</td>\n",
       "      <td>87</td>\n",
       "      <td>1</td>\n",
       "      <td>Lana Wachowski</td>\n",
       "      <td>Action</td>\n",
       "      <td>United States</td>\n",
       "      <td>English</td>\n",
       "      <td>136</td>\n",
       "    </tr>\n",
       "    <tr>\n",
       "      <th>2</th>\n",
       "      <td>3</td>\n",
       "      <td>Avengers: Infinity War</td>\n",
       "      <td>2010s</td>\n",
       "      <td>13+</td>\n",
       "      <td>8.5</td>\n",
       "      <td>84</td>\n",
       "      <td>1</td>\n",
       "      <td>Anthony Russo</td>\n",
       "      <td>Action</td>\n",
       "      <td>United States</td>\n",
       "      <td>English</td>\n",
       "      <td>149</td>\n",
       "    </tr>\n",
       "    <tr>\n",
       "      <th>3</th>\n",
       "      <td>4</td>\n",
       "      <td>Back to the Future</td>\n",
       "      <td>1980s</td>\n",
       "      <td>7+</td>\n",
       "      <td>8.5</td>\n",
       "      <td>96</td>\n",
       "      <td>1</td>\n",
       "      <td>Robert Zemeckis</td>\n",
       "      <td>Adventure</td>\n",
       "      <td>United States</td>\n",
       "      <td>English</td>\n",
       "      <td>116</td>\n",
       "    </tr>\n",
       "    <tr>\n",
       "      <th>4</th>\n",
       "      <td>5</td>\n",
       "      <td>The Good, the Bad and the Ugly</td>\n",
       "      <td>1960s</td>\n",
       "      <td>18+</td>\n",
       "      <td>8.8</td>\n",
       "      <td>97</td>\n",
       "      <td>2</td>\n",
       "      <td>Sergio Leone</td>\n",
       "      <td>Western</td>\n",
       "      <td>Italy</td>\n",
       "      <td>Italian</td>\n",
       "      <td>161</td>\n",
       "    </tr>\n",
       "  </tbody>\n",
       "</table>\n",
       "</div>"
      ],
      "text/plain": [
       "   ID                           Title Decade  Age  IMDb  Rotten  \\\n",
       "0   1                       Inception  2010s  13+   8.8      87   \n",
       "1   2                      The Matrix  1990s  18+   8.7      87   \n",
       "2   3          Avengers: Infinity War  2010s  13+   8.5      84   \n",
       "3   4              Back to the Future  1980s   7+   8.5      96   \n",
       "4   5  The Good, the Bad and the Ugly  1960s  18+   8.8      97   \n",
       "\n",
       "   Availability Score          Directors     Genres        Country Language  \\\n",
       "0                   1  Christopher Nolan     Action  United States  English   \n",
       "1                   1     Lana Wachowski     Action  United States  English   \n",
       "2                   1      Anthony Russo     Action  United States  English   \n",
       "3                   1    Robert Zemeckis  Adventure  United States  English   \n",
       "4                   2       Sergio Leone    Western          Italy  Italian   \n",
       "\n",
       "   Runtime  \n",
       "0      148  \n",
       "1      136  \n",
       "2      149  \n",
       "3      116  \n",
       "4      161  "
      ]
     },
     "execution_count": 3,
     "metadata": {},
     "output_type": "execute_result"
    }
   ],
   "source": [
    "Moviedata = pd.read_csv('Final-CLEAN-Dataset.csv')\n",
    "Moviedata.head()"
   ]
  },
  {
   "cell_type": "code",
   "execution_count": 4,
   "id": "7e03d13e",
   "metadata": {},
   "outputs": [
    {
     "name": "stdout",
     "output_type": "stream",
     "text": [
      "<class 'pandas.core.frame.DataFrame'>\n",
      "RangeIndex: 5556 entries, 0 to 5555\n",
      "Data columns (total 12 columns):\n",
      " #   Column              Non-Null Count  Dtype  \n",
      "---  ------              --------------  -----  \n",
      " 0   ID                  5556 non-null   int64  \n",
      " 1   Title               5556 non-null   object \n",
      " 2   Decade              5556 non-null   object \n",
      " 3   Age                 5556 non-null   object \n",
      " 4   IMDb                5556 non-null   float64\n",
      " 5   Rotten              5556 non-null   int64  \n",
      " 6   Availability Score  5556 non-null   int64  \n",
      " 7   Directors           5556 non-null   object \n",
      " 8   Genres              5556 non-null   object \n",
      " 9   Country             5556 non-null   object \n",
      " 10  Language            5556 non-null   object \n",
      " 11  Runtime             5556 non-null   int64  \n",
      "dtypes: float64(1), int64(4), object(7)\n",
      "memory usage: 521.0+ KB\n"
     ]
    }
   ],
   "source": [
    "Moviedata.info()"
   ]
  },
  {
   "cell_type": "markdown",
   "id": "09185620",
   "metadata": {},
   "source": [
    "Using Uni-Variate Linear Regression, test out various Numeric Variables to see which Variables can predict the IMDb Scores the most accurately"
   ]
  },
  {
   "cell_type": "code",
   "execution_count": null,
   "id": "565202c3",
   "metadata": {},
   "outputs": [],
   "source": [
    "IMDbScore = pd.DataFrame(pkmndata['IMDb'])  # Response\n",
    "Decade = pd.DataFrame(pkmndata['Decade'])        # Predictor"
   ]
  },
  {
   "cell_type": "markdown",
   "id": "4f97a422",
   "metadata": {},
   "source": [
    "Set up the Regression Problem with Train & Test Datasets"
   ]
  },
  {
   "cell_type": "code",
   "execution_count": null,
   "id": "33ae1ddc",
   "metadata": {},
   "outputs": [],
   "source": [
    "# Train Set : 600 samples\n",
    "IMDBScore_train = pd.DataFrame(IMDb[:600])\n",
    "total_train = pd.DataFrame(total[:600])\n",
    "\n",
    "# Test Set : 200 samples\n",
    "hp_test = pd.DataFrame(hp[-200:])\n",
    "total_test = pd.DataFrame(total[-200:])\n",
    "\n",
    "# Check the sample sizes\n",
    "print(\"Train Set :\", hp_train.shape, total_train.shape)\n",
    "print(\"Test Set  :\", hp_test.shape, total_test.shape)"
   ]
  },
  {
   "cell_type": "markdown",
   "id": "cdf4ecb7",
   "metadata": {},
   "source": [
    "Data Exploration of Various Stats\n",
    "Basic Stats and PLots\n",
    "\n",
    "//already done in EDA Portion"
   ]
  },
  {
   "cell_type": "markdown",
   "id": "e89e5065",
   "metadata": {},
   "source": [
    "Create dataFrame and Jointplot of the Response & Predictor"
   ]
  },
  {
   "cell_type": "code",
   "execution_count": null,
   "id": "41508089",
   "metadata": {},
   "outputs": [],
   "source": [
    "# Create a joint dataframe by concatenating the two variables\n",
    "trainDF = pd.concat([hp_train, total_train], axis = 1).reindex(hp_train.index)\n",
    "\n",
    "# Jointplot of Total Train against HP Train\n",
    "sb.jointplot(data = trainDF, x = \"HP\", y = \"Total\", height = 12)"
   ]
  },
  {
   "cell_type": "markdown",
   "id": "d795e06a",
   "metadata": {},
   "source": [
    "Create Correlation Matrix for Respective Response & Predictor"
   ]
  },
  {
   "cell_type": "code",
   "execution_count": null,
   "id": "5fa5aa11",
   "metadata": {},
   "outputs": [],
   "source": [
    "# Calculate the correlation between the two columns/variables\n",
    "sb.heatmap(trainDF.corr(), vmin = -1, vmax = 1, annot = True, fmt=\".2f\")"
   ]
  },
  {
   "cell_type": "code",
   "execution_count": null,
   "id": "9f399b61",
   "metadata": {},
   "outputs": [],
   "source": [
    "# Import essential models and functions from sklearn\n",
    "from sklearn.linear_model import LinearRegression\n",
    "from sklearn.model_selection import train_test_split\n",
    "from sklearn.metrics import mean_squared_error\n",
    "\n",
    "# Recall the Total-HP Dataset\n",
    "total = pd.DataFrame(pkmndata['Total'])   # Response\n",
    "hp = pd.DataFrame(pkmndata['HP'])         # Predictor\n",
    "\n",
    "# Split the Dataset into Train and Test\n",
    "X_train, X_test, y_train, y_test = train_test_split(hp, total, test_size = 0.25)\n",
    "\n",
    "# Linear Regression using Train Data\n",
    "linreg = LinearRegression()         # create the linear regression object\n",
    "linreg.fit(X_train, y_train)        # train the linear regression model\n",
    "\n",
    "# Coefficients of the Linear Regression line\n",
    "print('Intercept of Regression \\t: b = ', linreg.intercept_)\n",
    "print('Coefficients of Regression \\t: a = ', linreg.coef_)\n",
    "print()\n",
    "\n",
    "# Predict Total values corresponding to HP\n",
    "y_train_pred = linreg.predict(X_train)\n",
    "y_test_pred = linreg.predict(X_test)\n",
    "\n",
    "# Check the Goodness of Fit (on Train Data)\n",
    "print(\"Goodness of Fit of Model \\tTrain Dataset\")\n",
    "print(\"Explained Variance (R^2) \\t:\", linreg.score(X_train, y_train))\n",
    "print(\"Mean Squared Error (MSE) \\t:\", mean_squared_error(y_train, y_train_pred))\n",
    "print()\n",
    "\n",
    "# Check the Goodness of Fit (on Test Data)\n",
    "print(\"Goodness of Fit of Model \\tTest Dataset\")\n",
    "print(\"Explained Variance (R^2) \\t:\", linreg.score(X_test, y_test))\n",
    "print(\"Mean Squared Error (MSE) \\t:\", mean_squared_error(y_test, y_test_pred))\n",
    "print()\n",
    "\n",
    "# Plot the Predictions vs the True values\n",
    "f, axes = plt.subplots(1, 2, figsize=(24, 12))\n",
    "axes[0].scatter(y_train, y_train_pred, color = \"blue\")\n",
    "axes[0].plot(y_train, y_train, 'w-', linewidth = 1)\n",
    "axes[0].set_xlabel(\"True values of the Response Variable (Train)\")\n",
    "axes[0].set_ylabel(\"Predicted values of the Response Variable (Train)\")\n",
    "axes[1].scatter(y_test, y_test_pred, color = \"green\")\n",
    "axes[1].plot(y_test, y_test, 'w-', linewidth = 1)\n",
    "axes[1].set_xlabel(\"True values of the Response Variable (Test)\")\n",
    "axes[1].set_ylabel(\"Predicted values of the Response Variable (Test)\")\n",
    "plt.show()"
   ]
  }
 ],
 "metadata": {
  "kernelspec": {
   "display_name": "Python 3 (ipykernel)",
   "language": "python",
   "name": "python3"
  },
  "language_info": {
   "codemirror_mode": {
    "name": "ipython",
    "version": 3
   },
   "file_extension": ".py",
   "mimetype": "text/x-python",
   "name": "python",
   "nbconvert_exporter": "python",
   "pygments_lexer": "ipython3",
   "version": "3.9.7"
  }
 },
 "nbformat": 4,
 "nbformat_minor": 5
}
