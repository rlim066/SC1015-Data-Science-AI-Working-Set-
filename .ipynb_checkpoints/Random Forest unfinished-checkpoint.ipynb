{
 "cells": [
  {
   "cell_type": "markdown",
   "id": "51bed21f",
   "metadata": {},
   "source": [
    "# Random Forest"
   ]
  },
  {
   "cell_type": "code",
   "execution_count": 1,
   "id": "3b283e91",
   "metadata": {},
   "outputs": [],
   "source": [
    "import requests as r\n",
    "import numpy as np\n",
    "import pandas as pd\n",
    "import json\n",
    "\n",
    "import seaborn as sb\n",
    "import matplotlib.pyplot as plt \n",
    "sb.set() # set the default Seaborn style for graphics\n",
    "\n",
    "from sklearn.model_selection import train_test_split\n",
    "from sklearn.model_selection import GridSearchCV\n",
    "from sklearn.metrics import accuracy_score\n",
    "from sklearn.metrics import mean_absolute_error\n",
    "import sklearn\n",
    "from sklearn.svm import SVC\n",
    "from sklearn.model_selection import cross_val_score\n",
    "from sklearn.ensemble import RandomForestClassifier\n",
    "from sklearn.ensemble import RandomForestRegressor"
   ]
  },
  {
   "cell_type": "code",
   "execution_count": 2,
   "id": "99741d70",
   "metadata": {
    "scrolled": true
   },
   "outputs": [
    {
     "data": {
      "text/html": [
       "<div>\n",
       "<style scoped>\n",
       "    .dataframe tbody tr th:only-of-type {\n",
       "        vertical-align: middle;\n",
       "    }\n",
       "\n",
       "    .dataframe tbody tr th {\n",
       "        vertical-align: top;\n",
       "    }\n",
       "\n",
       "    .dataframe thead th {\n",
       "        text-align: right;\n",
       "    }\n",
       "</style>\n",
       "<table border=\"1\" class=\"dataframe\">\n",
       "  <thead>\n",
       "    <tr style=\"text-align: right;\">\n",
       "      <th></th>\n",
       "      <th>Unnamed: 0</th>\n",
       "      <th>ID</th>\n",
       "      <th>Title</th>\n",
       "      <th>Decade</th>\n",
       "      <th>Age of Movie</th>\n",
       "      <th>Age Category</th>\n",
       "      <th>IMDb</th>\n",
       "      <th>Rotten</th>\n",
       "      <th>Availability</th>\n",
       "      <th>Genres</th>\n",
       "      <th>Country</th>\n",
       "      <th>Language</th>\n",
       "      <th>Runtime</th>\n",
       "    </tr>\n",
       "  </thead>\n",
       "  <tbody>\n",
       "    <tr>\n",
       "      <th>0</th>\n",
       "      <td>0</td>\n",
       "      <td>1</td>\n",
       "      <td>The Matrix</td>\n",
       "      <td>1990s</td>\n",
       "      <td>23</td>\n",
       "      <td>18+</td>\n",
       "      <td>8.7</td>\n",
       "      <td>87</td>\n",
       "      <td>1</td>\n",
       "      <td>Action</td>\n",
       "      <td>United States</td>\n",
       "      <td>English</td>\n",
       "      <td>136</td>\n",
       "    </tr>\n",
       "    <tr>\n",
       "      <th>1</th>\n",
       "      <td>1</td>\n",
       "      <td>2</td>\n",
       "      <td>Back to the Future</td>\n",
       "      <td>1980s</td>\n",
       "      <td>37</td>\n",
       "      <td>7+</td>\n",
       "      <td>8.5</td>\n",
       "      <td>96</td>\n",
       "      <td>1</td>\n",
       "      <td>Adventure</td>\n",
       "      <td>United States</td>\n",
       "      <td>English</td>\n",
       "      <td>116</td>\n",
       "    </tr>\n",
       "    <tr>\n",
       "      <th>2</th>\n",
       "      <td>2</td>\n",
       "      <td>3</td>\n",
       "      <td>Spider-Man: Into the Spider-Verse</td>\n",
       "      <td>2010s</td>\n",
       "      <td>4</td>\n",
       "      <td>7+</td>\n",
       "      <td>8.4</td>\n",
       "      <td>97</td>\n",
       "      <td>1</td>\n",
       "      <td>Animation</td>\n",
       "      <td>United States</td>\n",
       "      <td>English</td>\n",
       "      <td>117</td>\n",
       "    </tr>\n",
       "    <tr>\n",
       "      <th>3</th>\n",
       "      <td>3</td>\n",
       "      <td>4</td>\n",
       "      <td>Raiders of the Lost Ark</td>\n",
       "      <td>1980s</td>\n",
       "      <td>41</td>\n",
       "      <td>7+</td>\n",
       "      <td>8.4</td>\n",
       "      <td>95</td>\n",
       "      <td>1</td>\n",
       "      <td>Action</td>\n",
       "      <td>United States</td>\n",
       "      <td>English</td>\n",
       "      <td>115</td>\n",
       "    </tr>\n",
       "    <tr>\n",
       "      <th>4</th>\n",
       "      <td>4</td>\n",
       "      <td>5</td>\n",
       "      <td>Taxi Driver</td>\n",
       "      <td>1970s</td>\n",
       "      <td>46</td>\n",
       "      <td>18+</td>\n",
       "      <td>8.3</td>\n",
       "      <td>95</td>\n",
       "      <td>1</td>\n",
       "      <td>Crime</td>\n",
       "      <td>United States</td>\n",
       "      <td>English</td>\n",
       "      <td>114</td>\n",
       "    </tr>\n",
       "    <tr>\n",
       "      <th>5</th>\n",
       "      <td>5</td>\n",
       "      <td>6</td>\n",
       "      <td>Room</td>\n",
       "      <td>2010s</td>\n",
       "      <td>7</td>\n",
       "      <td>18+</td>\n",
       "      <td>8.1</td>\n",
       "      <td>93</td>\n",
       "      <td>1</td>\n",
       "      <td>Drama</td>\n",
       "      <td>Ireland</td>\n",
       "      <td>English</td>\n",
       "      <td>118</td>\n",
       "    </tr>\n",
       "    <tr>\n",
       "      <th>6</th>\n",
       "      <td>6</td>\n",
       "      <td>7</td>\n",
       "      <td>Monty Python and the Holy Grail</td>\n",
       "      <td>1970s</td>\n",
       "      <td>47</td>\n",
       "      <td>7+</td>\n",
       "      <td>8.2</td>\n",
       "      <td>97</td>\n",
       "      <td>1</td>\n",
       "      <td>Adventure</td>\n",
       "      <td>United Kingdom</td>\n",
       "      <td>English</td>\n",
       "      <td>91</td>\n",
       "    </tr>\n",
       "    <tr>\n",
       "      <th>7</th>\n",
       "      <td>7</td>\n",
       "      <td>8</td>\n",
       "      <td>Indiana Jones and the Last Crusade</td>\n",
       "      <td>1980s</td>\n",
       "      <td>33</td>\n",
       "      <td>13+</td>\n",
       "      <td>8.2</td>\n",
       "      <td>88</td>\n",
       "      <td>1</td>\n",
       "      <td>Action</td>\n",
       "      <td>United States</td>\n",
       "      <td>English</td>\n",
       "      <td>127</td>\n",
       "    </tr>\n",
       "    <tr>\n",
       "      <th>8</th>\n",
       "      <td>8</td>\n",
       "      <td>9</td>\n",
       "      <td>Groundhog Day</td>\n",
       "      <td>1990s</td>\n",
       "      <td>29</td>\n",
       "      <td>7+</td>\n",
       "      <td>8.0</td>\n",
       "      <td>96</td>\n",
       "      <td>1</td>\n",
       "      <td>Comedy</td>\n",
       "      <td>United States</td>\n",
       "      <td>English</td>\n",
       "      <td>101</td>\n",
       "    </tr>\n",
       "    <tr>\n",
       "      <th>9</th>\n",
       "      <td>9</td>\n",
       "      <td>10</td>\n",
       "      <td>The King's Speech</td>\n",
       "      <td>2010s</td>\n",
       "      <td>12</td>\n",
       "      <td>18+</td>\n",
       "      <td>8.0</td>\n",
       "      <td>95</td>\n",
       "      <td>1</td>\n",
       "      <td>Biography</td>\n",
       "      <td>United Kingdom</td>\n",
       "      <td>English</td>\n",
       "      <td>118</td>\n",
       "    </tr>\n",
       "  </tbody>\n",
       "</table>\n",
       "</div>"
      ],
      "text/plain": [
       "   Unnamed: 0  ID                               Title Decade  Age of Movie  \\\n",
       "0           0   1                          The Matrix  1990s            23   \n",
       "1           1   2                  Back to the Future  1980s            37   \n",
       "2           2   3   Spider-Man: Into the Spider-Verse  2010s             4   \n",
       "3           3   4             Raiders of the Lost Ark  1980s            41   \n",
       "4           4   5                         Taxi Driver  1970s            46   \n",
       "5           5   6                                Room  2010s             7   \n",
       "6           6   7     Monty Python and the Holy Grail  1970s            47   \n",
       "7           7   8  Indiana Jones and the Last Crusade  1980s            33   \n",
       "8           8   9                       Groundhog Day  1990s            29   \n",
       "9           9  10                   The King's Speech  2010s            12   \n",
       "\n",
       "  Age Category  IMDb  Rotten  Availability     Genres         Country  \\\n",
       "0          18+   8.7      87             1     Action   United States   \n",
       "1           7+   8.5      96             1  Adventure   United States   \n",
       "2           7+   8.4      97             1  Animation   United States   \n",
       "3           7+   8.4      95             1     Action   United States   \n",
       "4          18+   8.3      95             1      Crime   United States   \n",
       "5          18+   8.1      93             1      Drama         Ireland   \n",
       "6           7+   8.2      97             1  Adventure  United Kingdom   \n",
       "7          13+   8.2      88             1     Action   United States   \n",
       "8           7+   8.0      96             1     Comedy   United States   \n",
       "9          18+   8.0      95             1  Biography  United Kingdom   \n",
       "\n",
       "  Language  Runtime  \n",
       "0  English      136  \n",
       "1  English      116  \n",
       "2  English      117  \n",
       "3  English      115  \n",
       "4  English      114  \n",
       "5  English      118  \n",
       "6  English       91  \n",
       "7  English      127  \n",
       "8  English      101  \n",
       "9  English      118  "
      ]
     },
     "execution_count": 2,
     "metadata": {},
     "output_type": "execute_result"
    }
   ],
   "source": [
    "moviedata = pd.read_csv('AfterEDA-Cleaning.csv')\n",
    "moviedata.head(n = 10)"
   ]
  },
  {
   "cell_type": "code",
   "execution_count": 3,
   "id": "6b840400",
   "metadata": {},
   "outputs": [
    {
     "data": {
      "text/html": [
       "<div>\n",
       "<style scoped>\n",
       "    .dataframe tbody tr th:only-of-type {\n",
       "        vertical-align: middle;\n",
       "    }\n",
       "\n",
       "    .dataframe tbody tr th {\n",
       "        vertical-align: top;\n",
       "    }\n",
       "\n",
       "    .dataframe thead th {\n",
       "        text-align: right;\n",
       "    }\n",
       "</style>\n",
       "<table border=\"1\" class=\"dataframe\">\n",
       "  <thead>\n",
       "    <tr style=\"text-align: right;\">\n",
       "      <th></th>\n",
       "      <th>Unnamed: 0</th>\n",
       "      <th>ID</th>\n",
       "      <th>Age of Movie</th>\n",
       "      <th>IMDb</th>\n",
       "      <th>Rotten</th>\n",
       "      <th>Availability</th>\n",
       "      <th>Runtime</th>\n",
       "    </tr>\n",
       "  </thead>\n",
       "  <tbody>\n",
       "    <tr>\n",
       "      <th>count</th>\n",
       "      <td>4726.000000</td>\n",
       "      <td>4726.000000</td>\n",
       "      <td>4726.000000</td>\n",
       "      <td>4726.000000</td>\n",
       "      <td>4726.000000</td>\n",
       "      <td>4726.000000</td>\n",
       "      <td>4726.000000</td>\n",
       "    </tr>\n",
       "    <tr>\n",
       "      <th>mean</th>\n",
       "      <td>2362.500000</td>\n",
       "      <td>2363.500000</td>\n",
       "      <td>15.049937</td>\n",
       "      <td>6.162103</td>\n",
       "      <td>59.498096</td>\n",
       "      <td>1.059670</td>\n",
       "      <td>99.975667</td>\n",
       "    </tr>\n",
       "    <tr>\n",
       "      <th>std</th>\n",
       "      <td>1364.423016</td>\n",
       "      <td>1364.423016</td>\n",
       "      <td>13.878385</td>\n",
       "      <td>1.059222</td>\n",
       "      <td>22.423813</td>\n",
       "      <td>0.241325</td>\n",
       "      <td>14.374258</td>\n",
       "    </tr>\n",
       "    <tr>\n",
       "      <th>min</th>\n",
       "      <td>0.000000</td>\n",
       "      <td>1.000000</td>\n",
       "      <td>1.000000</td>\n",
       "      <td>1.100000</td>\n",
       "      <td>2.000000</td>\n",
       "      <td>1.000000</td>\n",
       "      <td>60.000000</td>\n",
       "    </tr>\n",
       "    <tr>\n",
       "      <th>25%</th>\n",
       "      <td>1181.250000</td>\n",
       "      <td>1182.250000</td>\n",
       "      <td>5.000000</td>\n",
       "      <td>5.500000</td>\n",
       "      <td>45.000000</td>\n",
       "      <td>1.000000</td>\n",
       "      <td>90.000000</td>\n",
       "    </tr>\n",
       "    <tr>\n",
       "      <th>50%</th>\n",
       "      <td>2362.500000</td>\n",
       "      <td>2363.500000</td>\n",
       "      <td>11.000000</td>\n",
       "      <td>6.200000</td>\n",
       "      <td>60.000000</td>\n",
       "      <td>1.000000</td>\n",
       "      <td>98.000000</td>\n",
       "    </tr>\n",
       "    <tr>\n",
       "      <th>75%</th>\n",
       "      <td>3543.750000</td>\n",
       "      <td>3544.750000</td>\n",
       "      <td>20.000000</td>\n",
       "      <td>6.900000</td>\n",
       "      <td>76.000000</td>\n",
       "      <td>1.000000</td>\n",
       "      <td>109.000000</td>\n",
       "    </tr>\n",
       "    <tr>\n",
       "      <th>max</th>\n",
       "      <td>4725.000000</td>\n",
       "      <td>4726.000000</td>\n",
       "      <td>102.000000</td>\n",
       "      <td>9.000000</td>\n",
       "      <td>100.000000</td>\n",
       "      <td>3.000000</td>\n",
       "      <td>140.000000</td>\n",
       "    </tr>\n",
       "  </tbody>\n",
       "</table>\n",
       "</div>"
      ],
      "text/plain": [
       "        Unnamed: 0           ID  Age of Movie         IMDb       Rotten  \\\n",
       "count  4726.000000  4726.000000   4726.000000  4726.000000  4726.000000   \n",
       "mean   2362.500000  2363.500000     15.049937     6.162103    59.498096   \n",
       "std    1364.423016  1364.423016     13.878385     1.059222    22.423813   \n",
       "min       0.000000     1.000000      1.000000     1.100000     2.000000   \n",
       "25%    1181.250000  1182.250000      5.000000     5.500000    45.000000   \n",
       "50%    2362.500000  2363.500000     11.000000     6.200000    60.000000   \n",
       "75%    3543.750000  3544.750000     20.000000     6.900000    76.000000   \n",
       "max    4725.000000  4726.000000    102.000000     9.000000   100.000000   \n",
       "\n",
       "       Availability      Runtime  \n",
       "count   4726.000000  4726.000000  \n",
       "mean       1.059670    99.975667  \n",
       "std        0.241325    14.374258  \n",
       "min        1.000000    60.000000  \n",
       "25%        1.000000    90.000000  \n",
       "50%        1.000000    98.000000  \n",
       "75%        1.000000   109.000000  \n",
       "max        3.000000   140.000000  "
      ]
     },
     "execution_count": 3,
     "metadata": {},
     "output_type": "execute_result"
    }
   ],
   "source": [
    "moviedata.describe()"
   ]
  },
  {
   "cell_type": "code",
   "execution_count": 4,
   "id": "d3cfc116",
   "metadata": {},
   "outputs": [],
   "source": [
    "EDA_numeric = [\"IMDb\", \"Rotten\", \"Runtime\", \"Age of Movie\"]"
   ]
  },
  {
   "cell_type": "code",
   "execution_count": 5,
   "id": "ae8e4971",
   "metadata": {},
   "outputs": [
    {
     "data": {
      "text/html": [
       "<div>\n",
       "<style scoped>\n",
       "    .dataframe tbody tr th:only-of-type {\n",
       "        vertical-align: middle;\n",
       "    }\n",
       "\n",
       "    .dataframe tbody tr th {\n",
       "        vertical-align: top;\n",
       "    }\n",
       "\n",
       "    .dataframe thead th {\n",
       "        text-align: right;\n",
       "    }\n",
       "</style>\n",
       "<table border=\"1\" class=\"dataframe\">\n",
       "  <thead>\n",
       "    <tr style=\"text-align: right;\">\n",
       "      <th></th>\n",
       "      <th>IMDb</th>\n",
       "      <th>Rotten</th>\n",
       "      <th>Runtime</th>\n",
       "      <th>Age of Movie</th>\n",
       "    </tr>\n",
       "  </thead>\n",
       "  <tbody>\n",
       "    <tr>\n",
       "      <th>count</th>\n",
       "      <td>4726.000000</td>\n",
       "      <td>4726.000000</td>\n",
       "      <td>4726.000000</td>\n",
       "      <td>4726.000000</td>\n",
       "    </tr>\n",
       "    <tr>\n",
       "      <th>mean</th>\n",
       "      <td>6.162103</td>\n",
       "      <td>59.498096</td>\n",
       "      <td>99.975667</td>\n",
       "      <td>15.049937</td>\n",
       "    </tr>\n",
       "    <tr>\n",
       "      <th>std</th>\n",
       "      <td>1.059222</td>\n",
       "      <td>22.423813</td>\n",
       "      <td>14.374258</td>\n",
       "      <td>13.878385</td>\n",
       "    </tr>\n",
       "    <tr>\n",
       "      <th>min</th>\n",
       "      <td>1.100000</td>\n",
       "      <td>2.000000</td>\n",
       "      <td>60.000000</td>\n",
       "      <td>1.000000</td>\n",
       "    </tr>\n",
       "    <tr>\n",
       "      <th>25%</th>\n",
       "      <td>5.500000</td>\n",
       "      <td>45.000000</td>\n",
       "      <td>90.000000</td>\n",
       "      <td>5.000000</td>\n",
       "    </tr>\n",
       "    <tr>\n",
       "      <th>50%</th>\n",
       "      <td>6.200000</td>\n",
       "      <td>60.000000</td>\n",
       "      <td>98.000000</td>\n",
       "      <td>11.000000</td>\n",
       "    </tr>\n",
       "    <tr>\n",
       "      <th>75%</th>\n",
       "      <td>6.900000</td>\n",
       "      <td>76.000000</td>\n",
       "      <td>109.000000</td>\n",
       "      <td>20.000000</td>\n",
       "    </tr>\n",
       "    <tr>\n",
       "      <th>max</th>\n",
       "      <td>9.000000</td>\n",
       "      <td>100.000000</td>\n",
       "      <td>140.000000</td>\n",
       "      <td>102.000000</td>\n",
       "    </tr>\n",
       "  </tbody>\n",
       "</table>\n",
       "</div>"
      ],
      "text/plain": [
       "              IMDb       Rotten      Runtime  Age of Movie\n",
       "count  4726.000000  4726.000000  4726.000000   4726.000000\n",
       "mean      6.162103    59.498096    99.975667     15.049937\n",
       "std       1.059222    22.423813    14.374258     13.878385\n",
       "min       1.100000     2.000000    60.000000      1.000000\n",
       "25%       5.500000    45.000000    90.000000      5.000000\n",
       "50%       6.200000    60.000000    98.000000     11.000000\n",
       "75%       6.900000    76.000000   109.000000     20.000000\n",
       "max       9.000000   100.000000   140.000000    102.000000"
      ]
     },
     "execution_count": 5,
     "metadata": {},
     "output_type": "execute_result"
    }
   ],
   "source": [
    "moviedata[EDA_numeric].describe()"
   ]
  },
  {
   "cell_type": "code",
   "execution_count": 6,
   "id": "890f265c",
   "metadata": {},
   "outputs": [
    {
     "data": {
      "image/png": "[encoded data removed]",
      "text/plain": [
       "<Figure size 1440x1440 with 12 Axes>"
      ]
     },
     "metadata": {},
     "output_type": "display_data"
    }
   ],
   "source": [
    "# Draw boxplot, histplot and violinplot of IMDb, Rotten and Runtime\n",
    "f, axes = plt.subplots(4, 3, figsize=(20, 20))\n",
    "\n",
    "count = 0\n",
    "for i in EDA_numeric:\n",
    "    sb.boxplot(data = moviedata[i], orient = \"h\", ax = axes[count,0])\n",
    "    sb.histplot(data = moviedata[i], ax = axes[count,1])\n",
    "    sb.violinplot(data = moviedata[i], orient = \"h\", ax = axes[count,2])\n",
    "    count += 1"
   ]
  },
  {
   "cell_type": "markdown",
   "id": "6b4cc8f9",
   "metadata": {},
   "source": [
    "## Feature Importance"
   ]
  },
  {
   "cell_type": "code",
   "execution_count": 22,
   "id": "4042d10e",
   "metadata": {},
   "outputs": [],
   "source": [
    "Feature_df = moviedata[[\"IMDb\", \"Rotten\", \"Runtime\", \"Age of Movie\"]]\n",
    "IMDb_list = []\n",
    "for i in moviedata[\"IMDb\"]:\n",
    "    if i >= 7.0:               # Mark good movies with '1' if IMDb >= 7.0\n",
    "        IMDb_list.append(1) \n",
    "    else:                      # Mark bad movies with '0' if IMDb < 7.0\n",
    "        IMDb_list.append(0)\n",
    "Feature_df = Feature_df.drop(\"IMDb\", axis = 1)\n",
    "\n",
    "X_train, X_test, y_train, y_test = train_test_split(Feature_df, IMDb_list, test_size = 0.25)\n"
   ]
  },
  {
   "cell_type": "code",
   "execution_count": 23,
   "id": "1a3a5cd7",
   "metadata": {},
   "outputs": [
    {
     "name": "stdout",
     "output_type": "stream",
     "text": [
      "97.57336343115124 %\n"
     ]
    }
   ],
   "source": [
    "random_forest = RandomForestClassifier(n_estimators = 10)\n",
    "random_forest.fit(X_train, y_train)\n",
    "\n",
    "y_prediction = random_forest.predict(X_test)\n",
    "\n",
    "random_forest.score(X_train, y_train) \n",
    "accuracy_rf = random_forest.score(X_train, y_train) * 100\n",
    "print(accuracy_rf, \"%\")"
   ]
  },
  {
   "cell_type": "code",
   "execution_count": 24,
   "id": "f9bba2b1",
   "metadata": {},
   "outputs": [
    {
     "name": "stdout",
     "output_type": "stream",
     "text": [
      "Scores: [0.82535211 0.81126761 0.81126761 0.77746479 0.82768362 0.79096045\n",
      " 0.83333333 0.77966102 0.8079096  0.78531073]\n",
      "Mean: 0.8050210869738205\n",
      "Standard Deviation: 0.019502789069940747\n"
     ]
    }
   ],
   "source": [
    "# Use K-fold Cross Validation to see how well random forest performs\n",
    "rf = RandomForestClassifier(n_estimators = 10)\n",
    "scores = cross_val_score(rf, X_train, y_train, cv = 10, scoring = \"accuracy\")\n",
    "\n",
    "print(\"Scores:\", scores)\n",
    "print(\"Mean:\", scores.mean())\n",
    "print(\"Standard Deviation:\", scores.std())"
   ]
  },
  {
   "cell_type": "code",
   "execution_count": 25,
   "id": "33ee1627",
   "metadata": {},
   "outputs": [],
   "source": [
    "importance = pd.DataFrame({\"Feature\": X_train.columns, \"Importance\": random_forest.feature_importances_})\n",
    "importance = importance.sort_values(\"Importance\", ascending = False).set_index(\"Feature\")"
   ]
  },
  {
   "cell_type": "code",
   "execution_count": 26,
   "id": "9b601bfe",
   "metadata": {
    "scrolled": false
   },
   "outputs": [
    {
     "data": {
      "text/html": [
       "<div>\n",
       "<style scoped>\n",
       "    .dataframe tbody tr th:only-of-type {\n",
       "        vertical-align: middle;\n",
       "    }\n",
       "\n",
       "    .dataframe tbody tr th {\n",
       "        vertical-align: top;\n",
       "    }\n",
       "\n",
       "    .dataframe thead th {\n",
       "        text-align: right;\n",
       "    }\n",
       "</style>\n",
       "<table border=\"1\" class=\"dataframe\">\n",
       "  <thead>\n",
       "    <tr style=\"text-align: right;\">\n",
       "      <th></th>\n",
       "      <th>Importance</th>\n",
       "    </tr>\n",
       "    <tr>\n",
       "      <th>Feature</th>\n",
       "      <th></th>\n",
       "    </tr>\n",
       "  </thead>\n",
       "  <tbody>\n",
       "    <tr>\n",
       "      <th>Rotten</th>\n",
       "      <td>0.469663</td>\n",
       "    </tr>\n",
       "    <tr>\n",
       "      <th>Runtime</th>\n",
       "      <td>0.289016</td>\n",
       "    </tr>\n",
       "    <tr>\n",
       "      <th>Age of Movie</th>\n",
       "      <td>0.241321</td>\n",
       "    </tr>\n",
       "  </tbody>\n",
       "</table>\n",
       "</div>"
      ],
      "text/plain": [
       "              Importance\n",
       "Feature                 \n",
       "Rotten          0.469663\n",
       "Runtime         0.289016\n",
       "Age of Movie    0.241321"
      ]
     },
     "execution_count": 26,
     "metadata": {},
     "output_type": "execute_result"
    }
   ],
   "source": [
    "importance.head()"
   ]
  },
  {
   "cell_type": "markdown",
   "id": "6b921c75",
   "metadata": {},
   "source": [
    "Conclusion: Rotten Tomatoes Score is the most important feature. Meanwhile, Availability is the most insignificant one."
   ]
  },
  {
   "cell_type": "code",
   "execution_count": 27,
   "id": "a3421ca8",
   "metadata": {},
   "outputs": [],
   "source": [
    "random_forest.fit(X_train, y_train)\n",
    "y_pred = random_forest.predict(X_test) "
   ]
  },
  {
   "cell_type": "code",
   "execution_count": 28,
   "id": "e136ccb5",
   "metadata": {},
   "outputs": [
    {
     "data": {
      "text/plain": [
       "{'criterion': 'mse',\n",
       " 'max_depth': 5,\n",
       " 'max_features': 'auto',\n",
       " 'n_estimators': 100}"
      ]
     },
     "execution_count": 28,
     "metadata": {},
     "output_type": "execute_result"
    }
   ],
   "source": [
    "rf_tuning = RandomForestRegressor(random_state = 20)\n",
    "param_grid = {\n",
    "   'n_estimators': [20, 50, 100],\n",
    "   'max_features': ['auto', 'sqrt', 'log2'],\n",
    "   'max_depth' : [3,4,5,6,7],\n",
    "   'criterion' :['mse', 'mae']\n",
    "}\n",
    "GSCV = GridSearchCV(estimator = rf_tuning, param_grid = param_grid, cv = 5)\n",
    "GSCV.fit(X_train, y_train)\n",
    "GSCV.best_params_ "
   ]
  },
  {
   "cell_type": "code",
   "execution_count": 29,
   "id": "f4397cb4",
   "metadata": {},
   "outputs": [
    {
     "name": "stdout",
     "output_type": "stream",
     "text": [
      "MAE:  0.22998951534928694\n",
      "MSE:  0.1287523650497495\n"
     ]
    }
   ],
   "source": [
    "random_forest = RandomForestRegressor(random_state = 20)\n",
    "random_forest.fit(X_train, y_train)\n",
    "y_pred = random_forest.predict(X_test)\n",
    "print('MAE: ', sklearn.metrics.mean_absolute_error(y_test, y_pred))\n",
    "print('MSE: ', sklearn.metrics.mean_squared_error(y_test, y_pred)) "
   ]
  },
  {
   "cell_type": "code",
   "execution_count": 30,
   "id": "2eb379f1",
   "metadata": {},
   "outputs": [
    {
     "name": "stdout",
     "output_type": "stream",
     "text": [
      "0.20869609564786107\n"
     ]
    }
   ],
   "source": [
    "random_forest_out_of_bag = RandomForestRegressor(oob_score = True)\n",
    "random_forest_out_of_bag.fit(X_train, y_train)\n",
    "print(random_forest_out_of_bag.oob_score_) "
   ]
  },
  {
   "cell_type": "code",
   "execution_count": 31,
   "id": "fe114861",
   "metadata": {},
   "outputs": [
    {
     "data": {
      "image/png": "[encoded data removed]",
      "text/plain": [
       "<Figure size 432x288 with 1 Axes>"
      ]
     },
     "metadata": {},
     "output_type": "display_data"
    }
   ],
   "source": [
    "plt.scatter(X_test['Rotten'].values, y_test, color = 'red')\n",
    "plt.scatter(X_test['Rotten'].values, y_pred, color = 'green')\n",
    "plt.title('Random Forest Regression')\n",
    "plt.xlabel('Rotten')\n",
    "plt.ylabel('IMDb')\n",
    "plt.show()"
   ]
  },
  {
   "cell_type": "code",
   "execution_count": null,
   "id": "0d19014b",
   "metadata": {},
   "outputs": [],
   "source": []
  }
 ],
 "metadata": {
  "kernelspec": {
   "display_name": "Python 3 (ipykernel)",
   "language": "python",
   "name": "python3"
  },
  "language_info": {
   "codemirror_mode": {
    "name": "ipython",
    "version": 3
   },
   "file_extension": ".py",
   "mimetype": "text/x-python",
   "name": "python",
   "nbconvert_exporter": "python",
   "pygments_lexer": "ipython3",
   "version": "3.9.7"
  }
 },
 "nbformat": 4,
 "nbformat_minor": 5
}
